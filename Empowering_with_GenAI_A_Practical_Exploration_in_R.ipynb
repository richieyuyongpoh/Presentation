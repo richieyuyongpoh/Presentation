{
  "nbformat": 4,
  "nbformat_minor": 0,
  "metadata": {
    "colab": {
      "provenance": [],
      "authorship_tag": "ABX9TyPHsp9AV/qHd87kxXphD2FX",
      "include_colab_link": true
    },
    "kernelspec": {
      "name": "ir",
      "display_name": "R"
    },
    "language_info": {
      "name": "R"
    }
  },
  "cells": [
    {
      "cell_type": "markdown",
      "metadata": {
        "id": "view-in-github",
        "colab_type": "text"
      },
      "source": [
        "<a href=\"https://colab.research.google.com/github/richieyuyongpoh/presentation/blob/main/Empowering_with_GenAI_A_Practical_Exploration_in_R.ipynb\" target=\"_parent\"><img src=\"https://colab.research.google.com/assets/colab-badge.svg\" alt=\"Open In Colab\"/></a>"
      ]
    },
    {
      "cell_type": "markdown",
      "source": [
        "# Empowering with GenAI: A Practical Exploration in R\n",
        "\n",
        "Prepared by:\n",
        "\n",
        "[Assoc. Prof. Ts. Dr. Yu Yong Poh](https://www.tarc.edu.my/staffDirectory.jsp?fstaff=yu+yong+poh)\n",
        "\n",
        "Email: yuyp@tarc.edu.my\n",
        "\n",
        "Linkedin: https://www.linkedin.com/in/yong-poh-yu/\n",
        "\n",
        "Personal Website: https://www.richieyyptutorialpage.com/\n"
      ],
      "metadata": {
        "id": "w6PTdN_nQ7Dl"
      }
    },
    {
      "cell_type": "markdown",
      "source": [
        "\n",
        "\n",
        "## 1.0 Generative AI, ChatGPT, and R: A Powerful Combination\n",
        "\n",
        "**What is Generative AI and ChatGPT?**\n",
        "\n",
        "Generative AI (GenAI) is a branch of artificial intelligence focused on creating new content, such as text, images, audio, and code. It learns patterns from existing data and then uses this knowledge to generate similar, yet novel, outputs. ChatGPT is a prime example of this technology. Developed by OpenAI, ChatGPT is a large language model (LLM) that excels at understanding and generating human-like text.\n",
        "\n",
        "<br>\n",
        "\n",
        "**GenAI and Its Applications**\n",
        "\n",
        "GenAI has the potential to revolutionize various fields, including:\n",
        "\n",
        "* **Content Creation:** Automating the writing of articles, stories, and marketing materials.\n",
        "* **Customer Service:** Providing instant and personalized support to customers.\n",
        "* **Education:** Developing interactive learning materials and personalized tutoring systems.\n",
        "* **Software Development:** Assisting in code generation and debugging.\n",
        "* **Research:** Analyzing large datasets and generating insightful summaries.\n",
        "\n",
        "<br>\n",
        "\n",
        "**Introduction to ChatGPT: A Large Language Model**\n",
        "\n",
        "ChatGPT is a powerful language model capable of engaging in natural conversations, translating languages, writing different kinds of creative content, and answering your questions in an informative way. Its versatility stems from being trained on a massive dataset of text and code, enabling it to understand and respond to a wide range of prompts and queries.\n",
        "\n",
        "<br>\n",
        "\n",
        "**The Potential of ChatGPT Across Diverse Fields**\n",
        "\n",
        "ChatGPT's applications are vast and rapidly expanding. It can be used in various sectors, including:\n",
        "\n",
        "* **Healthcare:** Providing medical information and support to patients.\n",
        "* **Finance:** Analyzing financial data and assisting in investment decisions.\n",
        "* **Law:** Summarizing legal documents and assisting in legal research.\n",
        "* **Entertainment:** Creating interactive games and personalized entertainment experiences.\n",
        "\n",
        "<br>\n",
        "\n",
        "**Why R for ChatGPT?**\n",
        "\n",
        "R is a widely used programming language for statistical computing and graphics. Combining the power of ChatGPT with R opens up new possibilities for data analysis, visualization, and reporting.\n",
        "\n",
        "<br>\n",
        "\n",
        "**Benefits of Integrating ChatGPT with R**\n",
        "\n",
        "Integrating ChatGPT with R offers several benefits:\n",
        "\n",
        "* **Automated Report Generation:** Generate insightful reports based on data analysis results automatically.\n",
        "* **Data Exploration & Visualization:** Quickly generate code for exploring and visualizing data based on your description.\n",
        "* **Enhanced Workflows:** Streamline tasks, from data manipulation to model development, through natural language interactions.\n",
        "* **Collaboration & Communication:** Facilitate communication between data scientists and stakeholders through easily understandable reports and summaries.\n",
        "\n",
        "<br>\n",
        "\n",
        "**Introduction to the `openai` package in R**\n",
        "\n",
        "Now that we've covered the basics of generative AI and ChatGPT, let's dive into how we can interact with it using the `openai` package in R. This package provides a seamless way to integrate ChatGPT into your R workflows, allowing you to send prompts and receive responses directly within your R environment.\n",
        "\n"
      ],
      "metadata": {
        "id": "pZGM32LYmk7C"
      }
    },
    {
      "cell_type": "code",
      "source": [
        "# Install the openai package\n",
        "install.packages(\"openai\")\n",
        "\n",
        "# Load the package\n",
        "library(openai)"
      ],
      "metadata": {
        "colab": {
          "base_uri": "https://localhost:8080/"
        },
        "id": "xNBia0PLm93E",
        "outputId": "bd585413-8856-407d-ef5b-b51b87ac6603"
      },
      "execution_count": 3,
      "outputs": [
        {
          "output_type": "stream",
          "name": "stderr",
          "text": [
            "Installing package into ‘/usr/local/lib/R/site-library’\n",
            "(as ‘lib’ is unspecified)\n",
            "\n",
            "also installing the dependency ‘assertthat’\n",
            "\n",
            "\n"
          ]
        }
      ]
    },
    {
      "cell_type": "markdown",
      "source": [
        "**Setting your API Key**\n",
        "\n",
        "\n",
        "Before we can start interacting with ChatGPT, we need to set our OpenAI API key. Remember the key you obtained from the OpenAI website? We'll use it here."
      ],
      "metadata": {
        "id": "o4Rxt5NvTbJS"
      }
    },
    {
      "cell_type": "markdown",
      "source": [
        "For those who do not have the OpenAI API key, may use [my key](https://docs.google.com/document/d/193Nnoq3S5VChpGWurQBcqnKLpaKMmWR_xIhMUMOqLlk/edit?usp=sharing). Please take note that this key will be removed after the workshop."
      ],
      "metadata": {
        "id": "5pLvkLUjTlRw"
      }
    },
    {
      "cell_type": "code",
      "source": [
        "# Replace \"YOUR_API_KEY\" with your actual API key\n",
        "Sys.setenv(OPENAI_API_KEY = \"YOUR_API_KEY\")\n"
      ],
      "metadata": {
        "id": "OLPWeIjDnCSv"
      },
      "execution_count": null,
      "outputs": []
    },
    {
      "cell_type": "markdown",
      "source": [
        "**Sending a Simple Prompt**\n",
        "\n",
        "Let's start with a basic example. We'll ask ChatGPT a simple question: \"What is the capital of Malaysia?\""
      ],
      "metadata": {
        "id": "upq7PHT0UeFd"
      }
    },
    {
      "cell_type": "code",
      "source": [
        "# Create a completion request\n",
        "response <- create_chat_completion(\n",
        "  model = \"gpt-4o-mini\",\n",
        "  messages = list(\n",
        "    list(\n",
        "      \"role\" = \"user\",\n",
        "      \"content\" = \"What is the capital of Malaysia?\"\n",
        "    )\n",
        "  )\n",
        ")\n",
        "\n",
        "\n",
        "\n",
        "# Extract and print the response\n",
        "print(response$choices$message.content)"
      ],
      "metadata": {
        "colab": {
          "base_uri": "https://localhost:8080/"
        },
        "id": "qEaVUUSJUlGa",
        "outputId": "7c5decd4-6541-45b5-997c-02124005863f"
      },
      "execution_count": 8,
      "outputs": [
        {
          "output_type": "stream",
          "name": "stdout",
          "text": [
            "[1] \"The capital of Malaysia is Kuala Lumpur.\"\n"
          ]
        }
      ]
    },
    {
      "cell_type": "markdown",
      "source": [
        "This code snippet sends the prompt \"What is the capital of Malaysia?\" to the \"gpt-4o-mini\" model, which is a powerful and efficient version of ChatGPT. The `create_chat_completion()` function handles the communication with the OpenAI API, and we extract the response from the response object.\n",
        "\n",
        "<br>\n",
        "\n",
        "**Understanding the Response**\n",
        "\n",
        "\n",
        "The response object contains various information about the API call, including the generated text, usage information, and more. For now, we're interested in the `choices$message.content` field, which holds the text generated by ChatGPT."
      ],
      "metadata": {
        "id": "Zrhr6ui3VE6n"
      }
    },
    {
      "cell_type": "code",
      "source": [
        "# Explore the response object\n",
        "str(response)"
      ],
      "metadata": {
        "colab": {
          "base_uri": "https://localhost:8080/"
        },
        "id": "hcI9euZnVUN9",
        "outputId": "5278a6fe-3179-436b-e998-d1272c1aeab3"
      },
      "execution_count": 9,
      "outputs": [
        {
          "output_type": "stream",
          "name": "stdout",
          "text": [
            "List of 7\n",
            " $ id                : chr \"chatcmpl-AMGfrlVWlhRGliIfCupk3dSg8x7Si\"\n",
            " $ object            : chr \"chat.completion\"\n",
            " $ created           : int 1729870675\n",
            " $ model             : chr \"gpt-4o-mini-2024-07-18\"\n",
            " $ choices           :'data.frame':\t1 obs. of  6 variables:\n",
            "  ..$ index          : int 0\n",
            "  ..$ logprobs       : logi NA\n",
            "  ..$ finish_reason  : chr \"stop\"\n",
            "  ..$ message.role   : chr \"assistant\"\n",
            "  ..$ message.content: chr \"The capital of Malaysia is Kuala Lumpur.\"\n",
            "  ..$ message.refusal: logi NA\n",
            " $ usage             :List of 5\n",
            "  ..$ prompt_tokens            : int 14\n",
            "  ..$ completion_tokens        : int 8\n",
            "  ..$ total_tokens             : int 22\n",
            "  ..$ prompt_tokens_details    :List of 1\n",
            "  .. ..$ cached_tokens: int 0\n",
            "  ..$ completion_tokens_details:List of 1\n",
            "  .. ..$ reasoning_tokens: int 0\n",
            " $ system_fingerprint: chr \"fp_f59a81427f\"\n"
          ]
        }
      ]
    },
    {
      "cell_type": "markdown",
      "source": [
        "**Crafting Better Prompts**\n",
        "\n",
        "Try improving the prompts from the previous exercise to get more specific and interesting responses from ChatGPT.\n",
        "\n",
        "<br>\n",
        "\n",
        "**Chain-of-Thought (COT)**\n",
        "\n",
        " \"Chain-of-Thought Prompting\" enhances the reasoning abilities of large language models. This involves explicitly prompting the model to break down complex tasks into smaller, more manageable steps, similar to how humans think through problems."
      ],
      "metadata": {
        "id": "0tTnnsX0XA7e"
      }
    },
    {
      "cell_type": "code",
      "source": [
        "# Load necessary libraries\n",
        "library(openai)\n",
        "library(dplyr)\n",
        "\n",
        "# Sample data with more features (replace with your actual dataset)\n",
        "data <- data.frame(\n",
        "  Name = c(\"Alice\", \"Bob\", \"Charlie\", \"David\", \"Emily\", \"Frank\", \"Grace\", \"Henry\"),\n",
        "  Age = c(25, 30, 28, 22, 27, 40, 35, 29),\n",
        "  City = c(\"New York\", \"London\", \"Paris\", \"Tokyo\", \"Sydney\", \"New York\", \"London\", \"Paris\"),\n",
        "  Salary = c(60000, 75000, 65000, 50000, 55000, 100000, 85000, 70000),\n",
        "  Experience = c(2, 5, 3, 1, 2, 10, 7, 4)\n",
        ")\n",
        "\n",
        "# Comprehensive prompt\n",
        "prompt <- paste(\n",
        "  \"First, describe the columns in this dataset:\", paste(names(data), collapse = \", \"),\n",
        "  \"Then, analyze the relationship between 'Age', 'Salary', and 'Experience' in the dataset. Do you observe any trends?\",\n",
        "  \"Based on your analysis, are there any outliers in the dataset? If so, which data points are they and why?\",\n",
        "  \"Finally, generate a comprehensive report summarizing the data, including the relationships between variables and any identified outliers. Also, suggest further analysis that could be performed.\",\n",
        "  sep = \"\\n\"\n",
        ")\n",
        "\n",
        "# Send the comprehensive prompt\n",
        "response <- create_chat_completion(\n",
        "  model = \"gpt-4o-mini\",\n",
        "  messages = list(\n",
        "    list(\"role\" = \"user\", \"content\" = prompt)\n",
        "  )\n",
        ")\n",
        "\n",
        "# Print the response\n",
        "cat(response$choices$message.content)"
      ],
      "metadata": {
        "colab": {
          "base_uri": "https://localhost:8080/"
        },
        "id": "vkuQ8cIiXabs",
        "outputId": "5f076c7b-742e-4cc1-fb97-d5ac82f6b811"
      },
      "execution_count": 22,
      "outputs": [
        {
          "output_type": "stream",
          "name": "stdout",
          "text": [
            "### Dataset Overview\n",
            "\n",
            "The dataset contains the following columns:\n",
            "\n",
            "1. **Name**: The name of the individual in the dataset.\n",
            "2. **Age**: The age of the individual, typically reflecting their years of experience in the workforce.\n",
            "3. **City**: The city where the individual resides, which may have implications for salary and job opportunities.\n",
            "4. **Salary**: The income of the individual, likely influenced by factors such as age, experience, and city of employment.\n",
            "5. **Experience**: The number of years the individual has worked, which can impact their salary and career progression.\n",
            "\n",
            "### Relationship Analysis\n",
            "\n",
            "Analyzing the relationships between 'Age', 'Salary', and 'Experience' can reveal insightful trends:\n",
            "\n",
            "1. **Age vs. Salary**: Generally, as individuals age, they accumulate experience and skills, potentially leading to higher salaries. There may be an upward trend in salary with increasing age, particularly after a certain age threshold where seniority becomes more valued.\n",
            "\n",
            "2. **Experience vs. Salary**: Experience is often directly correlated with salary. Individuals with more years in the workforce are likely to command higher salaries due to developed skills and a track record of performance. This correlation might be strong, especially in industries where expertise is critical.\n",
            "\n",
            "3. **Age vs. Experience**: Typically, there is a direct correlation where age increases alongside experience; however, this can vary if individuals enter the workforce at different ages or if there are gaps in career history (e.g., due to further education, unemployment, etc.).\n",
            "\n",
            "### Observed Trends\n",
            "\n",
            "- **Positive Correlation**: There is a positive correlation between age, experience, and salary. As people age, they tend to have more experience, which often translates into higher salaries.\n",
            "\n",
            "- **Age Clusters**: There may be age clusters where certain age groups exhibit significantly different salary ranges, potentially indicating career stages (e.g., entry-level, mid-career, senior positions).\n",
            "\n",
            "### Identification of Outliers\n",
            "\n",
            "To determine outliers, we would ideally apply statistical methods (e.g., Z-scores, IQR method) to define what constitutes an outlier in terms of age, salary, and experience. \n",
            "\n",
            "1. **Outliers in Salary**: If there are individuals with salary figures significantly higher than the majority (e.g., 1.5 times the interquartile range above the third quartile), they could be considered outliers. These may include highly experienced professionals in specialized fields or executives.\n",
            "\n",
            "2. **Outliers in Experience**: Individuals with exceptionally high experience but low salary may indicate an outlier scenario, possibly due to atypical employment patterns or underemployment situations.\n",
            "\n",
            "### Comprehensive Report Summary\n",
            "\n",
            "The analysis of the dataset suggests that there are strong relationships among 'Age', 'Salary', and 'Experience'. Generally, as individuals age and amass experience, their salaries tend to increase. This trend may vary by city due to local economic conditions.\n",
            "\n",
            "Identified outliers in the dataset—individuals with either exorbitantly high salaries for their age and experience (potentially leading positions) or uncharacteristically low salaries relative to their years of experience—underscore varying employment scenarios that may warrant further investigation.\n",
            "\n",
            "### Suggestions for Further Analysis\n",
            "\n",
            "1. **Segment Analysis**: Examine relationships within specific age groups or cities to understand local economic conditions and industry-specific salary practices.\n",
            "\n",
            "2. **Regression Analysis**: Conduct regression modeling to quantify the relationships between age, experience, and salary, which could provide insights into predictive factors for salary increases.\n",
            "\n",
            "3. **Time Series Analysis**: If longitudinal data is available, assess how these relationships evolve over time, and look at trends across different economic contexts.\n",
            "\n",
            "4. **Qualitative Factors**: Incorporate qualitative factors like industry, education level, and job role to create a more nuanced understanding of salary determinants.\n",
            "\n",
            "This comprehensive view can help policymakers, businesses, and educators understand workforce dynamics better and make more informed decisions."
          ]
        }
      ]
    },
    {
      "cell_type": "markdown",
      "source": [
        "To have better view, let us read the answer in this text cell, as shown below:\n",
        "\n",
        "<br>\n",
        "\n",
        "**Dataset Overview**\n",
        "\n",
        "The dataset contains the following columns:\n",
        "\n",
        "1. **Name**: The name of the individual in the dataset.\n",
        "2. **Age**: The age of the individual, typically reflecting their years of experience in the workforce.\n",
        "3. **City**: The city where the individual resides, which may have implications for salary and job opportunities.\n",
        "4. **Salary**: The income of the individual, likely influenced by factors such as age, experience, and city of employment.\n",
        "5. **Experience**: The number of years the individual has worked, which can impact their salary and career progression.\n",
        "\n",
        "<br>\n",
        "\n",
        "**Relationship Analysis**\n",
        "\n",
        "Analyzing the relationships between 'Age', 'Salary', and 'Experience' can reveal insightful trends:\n",
        "\n",
        "1. **Age vs. Salary**: Generally, as individuals age, they accumulate experience and skills, potentially leading to higher salaries. There may be an upward trend in salary with increasing age, particularly after a certain age threshold where seniority becomes more valued.\n",
        "\n",
        "2. **Experience vs. Salary**: Experience is often directly correlated with salary. Individuals with more years in the workforce are likely to command higher salaries due to developed skills and a track record of performance. This correlation might be strong, especially in industries where expertise is critical.\n",
        "\n",
        "3. **Age vs. Experience**: Typically, there is a direct correlation where age increases alongside experience; however, this can vary if individuals enter the workforce at different ages or if there are gaps in career history (e.g., due to further education, unemployment, etc.).\n",
        "\n",
        "<br>\n",
        "\n",
        "**Observed Trends**\n",
        "\n",
        "- **Positive Correlation**: There is a positive correlation between age, experience, and salary. As people age, they tend to have more experience, which often translates into higher salaries.\n",
        "\n",
        "- **Age Clusters**: There may be age clusters where certain age groups exhibit significantly different salary ranges, potentially indicating career stages (e.g., entry-level, mid-career, senior positions).\n",
        "\n",
        "<br>\n",
        "\n",
        "**Identification of Outliers**\n",
        "\n",
        "To determine outliers, we would ideally apply statistical methods (e.g., Z-scores, IQR method) to define what constitutes an outlier in terms of age, salary, and experience.\n",
        "\n",
        "1. **Outliers in Salary**: If there are individuals with salary figures significantly higher than the majority (e.g., 1.5 times the interquartile range above the third quartile), they could be considered outliers. These may include highly experienced professionals in specialized fields or executives.\n",
        "\n",
        "2. **Outliers in Experience**: Individuals with exceptionally high experience but low salary may indicate an outlier scenario, possibly due to atypical employment patterns or underemployment situations.\n",
        "\n",
        "<br>\n",
        "\n",
        "**Comprehensive Report Summary**\n",
        "\n",
        "The analysis of the dataset suggests that there are strong relationships among 'Age', 'Salary', and 'Experience'. Generally, as individuals age and amass experience, their salaries tend to increase. This trend may vary by city due to local economic conditions.\n",
        "\n",
        "Identified outliers in the dataset—individuals with either exorbitantly high salaries for their age and experience (potentially leading positions) or uncharacteristically low salaries relative to their years of experience—underscore varying employment scenarios that may warrant further investigation.\n",
        "\n",
        "<br>\n",
        "\n",
        "**Suggestions for Further Analysis**\n",
        "\n",
        "1. **Segment Analysis**: Examine relationships within specific age groups or cities to understand local economic conditions and industry-specific salary practices.\n",
        "\n",
        "2. **Regression Analysis**: Conduct regression modeling to quantify the relationships between age, experience, and salary, which could provide insights into predictive factors for salary increases.\n",
        "\n",
        "3. **Time Series Analysis**: If longitudinal data is available, assess how these relationships evolve over time, and look at trends across different economic contexts.\n",
        "\n",
        "4. **Qualitative Factors**: Incorporate qualitative factors like industry, education level, and job role to create a more nuanced understanding of salary determinants.\n",
        "\n",
        "This comprehensive view can help policymakers, businesses, and educators understand workforce dynamics better and make more informed decisions."
      ],
      "metadata": {
        "id": "E1Xj5K8Cax6O"
      }
    },
    {
      "cell_type": "markdown",
      "source": [
        "## 2.0 ChatGPT for Code Generation and Data Analysis\n",
        "\n",
        "**Generating R Code**\n",
        "\n",
        "ChatGPT can be a powerful tool for generating R code snippets for various tasks, from data manipulation to visualization and complex analysis. This section will demonstrate how to effectively utilize ChatGPT for code generation and optimization.\n",
        "\n",
        "**Basic Code Generation:**\n",
        "\n",
        "Simple tasks: Start by asking ChatGPT to generate code for simple tasks, like creating vectors, matrices, or data frames.\n",
        "\n",
        "Example: \"Generate R code to create a data frame with columns named 'Name', 'Age', 'Gender' and 'Income' and populate it with 100 sample entries.\"\n",
        "\n",
        "Data manipulation: Use ChatGPT to generate code for data wrangling tasks using libraries like dplyr.\n",
        "\n",
        "Example: \"Write R code using dplyr to filter this dataframe to only include rows where the 'Age' column is greater than 30.\"\n",
        "\n",
        "Visualization: Ask ChatGPT to create code for generating plots using libraries like ggplot2.\n",
        "\n",
        "Example: \"Generate R code using ggplot2 to create a scatter plot of 'Age' versus 'Income' from this dataframe, with points colored by 'Gender'"
      ],
      "metadata": {
        "id": "rhtjQqBqcoQb"
      }
    },
    {
      "cell_type": "code",
      "source": [
        "# Function to generate R code using ChatGPT\n",
        "generate_r_code <- function(prompt) {\n",
        "  response <- openai::create_chat_completion(\n",
        "    model = \"gpt-4o-mini\",\n",
        "    messages = list(\n",
        "      list(\n",
        "        role = \"system\",\n",
        "        content = \"You are a helpful R programming assistant.  You will be provided with a prompt describing a task, and you should generate the R code to accomplish that task. You just need to generate R codes without any English description.\"\n",
        "      ),\n",
        "      list(role = \"user\", content = prompt)\n",
        "    )\n",
        "  )\n",
        "  return(response$choices$message.content)\n",
        "}\n",
        "\n",
        "# Example usage\n",
        "user_prompt <- \"Generate R code (including importing packages) to create a data frame with columns named 'Name', 'Age', \\\n",
        "'Gender' and 'Income' and populate it with 10 sample entries. Then, use dplyr \\\n",
        "to filter this data frame to only include rows where the 'Age' column is greater than 30. \\\n",
        "Finally, use ggplot2 to create a scatter plot of 'Age' versus 'Income' from this data frame, with points colored by 'Gender' \"\n",
        "generated_code <- generate_r_code(user_prompt)\n",
        "\n",
        "# Print the generated code\n",
        "cat(generated_code)\n",
        "\n",
        "# Remove the triple backticks and any leading/trailing whitespace\n",
        "cleaned_code <- trimws(gsub(\"```R?\\n?|```\", \"\", generated_code))\n",
        "\n",
        "# Evaluate the generated code\n",
        "# Be cautious when evaluating code from an LLM, as it might not always be correct or safe.\n",
        "eval(parse(text = cleaned_code))"
      ],
      "metadata": {
        "colab": {
          "base_uri": "https://localhost:8080/",
          "height": 836
        },
        "id": "foBn-iu1dDtC",
        "outputId": "6b4c2adb-8df5-41b7-812f-51aaab0000db"
      },
      "execution_count": 35,
      "outputs": [
        {
          "output_type": "stream",
          "name": "stdout",
          "text": [
            "```R\n",
            "# Load necessary packages\n",
            "library(dplyr)\n",
            "library(ggplot2)\n",
            "\n",
            "# Create a data frame\n",
            "data <- data.frame(\n",
            "  Name = c(\"Alice\", \"Bob\", \"Charlie\", \"David\", \"Eve\", \"Frank\", \"Grace\", \"Hannah\", \"Ian\", \"Judy\"),\n",
            "  Age = c(25, 32, 45, 29, 31, 37, 22, 41, 34, 36),\n",
            "  Gender = c(\"Female\", \"Male\", \"Male\", \"Male\", \"Female\", \"Male\", \"Female\", \"Female\", \"Male\", \"Female\"),\n",
            "  Income = c(50000, 60000, 70000, 58000, 62000, 72000, 48000, 52000, 61000, 55000)\n",
            ")\n",
            "\n",
            "# Filter data frame where Age > 30\n",
            "filtered_data <- data %>%\n",
            "  filter(Age > 30)\n",
            "\n",
            "# Create a scatter plot of Age versus Income colored by Gender\n",
            "ggplot(filtered_data, aes(x = Age, y = Income, color = Gender)) +\n",
            "  geom_point() +\n",
            "  labs(title = \"Scatter Plot of Age vs Income\", x = \"Age\", y = \"Income\") +\n",
            "  theme_minimal()\n",
            "```"
          ]
        },
        {
          "output_type": "display_data",
          "data": {
            "text/plain": [
              "plot without title"
            ],
            "image/png": "[encoded data removed]"
          },
          "metadata": {
            "image/png": {
              "width": 420,
              "height": 420
            }
          }
        }
      ]
    },
    {
      "cell_type": "markdown",
      "source": [
        "Above framework demonstrates a multi-agent architecture where ChatGPT acts as a code generation agent, responding to user queries with R code. The system then functions as an execution agent, evaluating the generated code and presenting the results to the user, creating a dynamic and interactive data analysis environment."
      ],
      "metadata": {
        "id": "nuS8PIAdicK7"
      }
    },
    {
      "cell_type": "markdown",
      "source": [
        "## 3.0 R Shiny Web App\n",
        "\n",
        "Write an R Shiny app that allows users to upload multiple PDF files. The app should use the ChatGPT API to read and understand the PDFs and answer user questions based on them. It must only answer questions with information explicitly stated in the PDFs.  If a user asks a question not covered in the uploaded documents, the app should politely inform them that it cannot answer.\n",
        "\n",
        "For the following activity, we will use RStudio to develop the R code. You can use either a local installation of RStudio (on your desktop) or [RStudio/Posit Cloud](https://posit.cloud/).\n",
        "\n",
        "Execute the following codes in RStudio. Follow the subsequent instructions"
      ],
      "metadata": {
        "id": "MPInsmgaieuZ"
      }
    },
    {
      "cell_type": "code",
      "source": [
        "library(shiny)\n",
        "library(openai)\n",
        "library(pdftools)\n",
        "\n",
        "# Set your OpenAI API key\n",
        "Sys.setenv(OPENAI_API_KEY = \"YOUR_API_KEY\")\n",
        "\n",
        "ui <- fluidPage(\n",
        "\n",
        "  # Application title\n",
        "  titlePanel(\"Multi-PDF Chat with ChatGPT\"),\n",
        "\n",
        "  sidebarLayout(\n",
        "    sidebarPanel(\n",
        "      fileInput(\"pdf_files\", \"Upload PDFs\", multiple = TRUE, accept = c(\".pdf\")),\n",
        "      textInput(\"user_question\", \"Ask a question:\", placeholder = \"Enter your question here\"),\n",
        "      actionButton(\"submit\", \"Submit\")\n",
        "    ),\n",
        "\n",
        "    mainPanel(\n",
        "      h4(\"Chat History:\"),\n",
        "      verbatimTextOutput(\"chat_history\", placeholder = TRUE)\n",
        "    )\n",
        "  )\n",
        ")\n",
        "\n",
        "server <- function(input, output, session) {\n",
        "\n",
        "  # Reactive value to store the chat history\n",
        "  chat_history <- reactiveVal(\"\")\n",
        "\n",
        "  observeEvent(input$submit, {\n",
        "\n",
        "    # Check if any PDFs are uploaded\n",
        "    if (is.null(input$pdf_files)) {\n",
        "      # Show a warning message if no PDFs are uploaded\n",
        "      chat_history(\"Please upload at least one PDF file first.\")\n",
        "      return()\n",
        "    }\n",
        "\n",
        "    # Get the uploaded PDFs\n",
        "    pdf_paths <- input$pdf_files$datapath\n",
        "\n",
        "    # Extract text from all PDFs\n",
        "    all_text <- \"\"\n",
        "    for (path in pdf_paths) {\n",
        "      all_text <- paste(all_text, paste(pdf_text(path), collapse = \" \"))\n",
        "    }\n",
        "\n",
        "    # Check if all_text is empty\n",
        "    if (trimws(all_text) == \"\") {\n",
        "      chat_history(\"The uploaded PDFs do not contain any extractable text.\")\n",
        "      return()\n",
        "    }\n",
        "\n",
        "    # Get the user's question\n",
        "    question <- input$user_question\n",
        "\n",
        "    # Construct the prompt for ChatGPT\n",
        "    prompt <- paste(\n",
        "      \"Answer the following question based only on the information provided in the text below. \",\n",
        "      \"If the answer is not contained in the text, politely refuse to answer. \\n\\n\",\n",
        "      \"Text: \\n\", all_text, \"\\n\\n\",\n",
        "      \"Question: \", question\n",
        "    )\n",
        "\n",
        "    # Use the OpenAI API to get the answer\n",
        "    response <- openai::create_chat_completion(\n",
        "      model = \"gpt-4o-mini\",\n",
        "      messages = list(\n",
        "        list(\n",
        "          role = \"user\",\n",
        "          content = prompt\n",
        "        )\n",
        "      )\n",
        "    )\n",
        "\n",
        "    # Extract the answer from the response\n",
        "    answer <- response$choices$message.content\n",
        "\n",
        "    # Update the chat history\n",
        "    chat_history(paste(chat_history(), \"You:\", question, \"\\n\", \"ChatGPT:\", answer, \"\\n\\n\"))\n",
        "\n",
        "    # Clear the question input field\n",
        "    updateTextInput(session, \"user_question\", value = \"\")\n",
        "  })\n",
        "\n",
        "  output$chat_history <- renderText({\n",
        "    chat_history()\n",
        "  })\n",
        "}\n",
        "\n",
        "# Run the application\n",
        "shinyApp(ui = ui, server = server)"
      ],
      "metadata": {
        "id": "YqJeeX4OjnX_"
      },
      "execution_count": null,
      "outputs": []
    },
    {
      "cell_type": "markdown",
      "source": [
        "Activity:\n",
        "\n",
        "Upload the [`Exploring Data Using R.pdf`](https://drive.google.com/file/d/1j-icWPpk51n1RKgSd1sCyqdA_BOfiTg1/view?usp=drive_link) , an e-book written by [Prof. Dr. Kamarul Imran Musa and Dr. Wan Nor Arifin](https://github.com/drkamarul/our_book) , to the web app. Ask some questions and observe the answers generated by the AI.\n",
        "\n",
        "You may try to ask the following questions:\n",
        "\n",
        "- Who are the authors\n",
        "- What is this document all about\n",
        "- Tell me what is the best way to do EDA. Give me the summary. Include the reference (eg: which chapter)."
      ],
      "metadata": {
        "id": "gAQPyi7XqQt-"
      }
    },
    {
      "cell_type": "markdown",
      "source": [
        "## 4.0 A more Professional and Structured R Shiny Layout\n",
        "\n",
        "Execute the following codes using RStudio. Follow the subsequent instruction."
      ],
      "metadata": {
        "id": "0M22dSdTrePr"
      }
    },
    {
      "cell_type": "code",
      "source": [
        "library(shiny)\n",
        "library(openai)\n",
        "library(pdftools)\n",
        "library(shinydashboard)\n",
        "\n",
        "# Set your OpenAI API key\n",
        "Sys.setenv(OPENAI_API_KEY = \"YOUR_API_KEY\")\n",
        "\n",
        "\n",
        "ui <- dashboardPage(\n",
        "  dashboardHeader(title = \"Chat with Your Docs\"),\n",
        "  dashboardSidebar(\n",
        "    h3(\"Welcome to\", class = \"text-center\"),\n",
        "    h3(a(\"Chat with Your Docs\", href=\"#\", style=\"font-weight: bold; color: #007bff; text-decoration: none;\"), class = \"text-center\"),\n",
        "    p(\"This app allows you to ask questions about your PDF documents and get answers generated by AI.\", class = \"text-left\"),\n",
        "    hr(), # Horizontal line for visual separation\n",
        "    h4(\"Instructions\", class = \"text-center\"),\n",
        "    p(\"1. Upload one or more PDF files.\", class = \"text-left\"),\n",
        "    p(\"2. Type your question in the 'Ask Your Question' box.\", class = \"text-left\"),\n",
        "    p(\"3. Click 'Submit' to get an answer generated by AI.\", class = \"text-left\"),\n",
        "    hr(),\n",
        "    h4(\"Reference\", class = \"text-center\"),\n",
        "    p(a(\"A.P. Ts. Dr. Yu Yong Poh\", href=\"https://www.tarc.edu.my/staffDirectory.jsp?fstaff=yu+yong+poh\", target=\"_blank\"), class = \"text-left\"), # Hyperlink for name\n",
        "    p(a(\"yuyp@tarc.edu.my\", href=\"mailto:yuyp@tarc.edu.my\"), class = \"text-left\"), # Hyperlink for email\n",
        "    hr(),\n",
        "    fileInput(\"pdf_files\", \"Upload PDFs\", multiple = TRUE, accept = c(\".pdf\"),\n",
        "              buttonLabel = \"Browse...\", placeholder = \"No files selected\")\n",
        "  ),\n",
        "  dashboardBody(\n",
        "    tags$head(\n",
        "      tags$style(\n",
        "        \"#chat_history {\n",
        "          white-space: pre-wrap;\n",
        "          word-wrap: break-word;\n",
        "          font-size: 16px;\n",
        "          padding: 15px;\n",
        "          border: 1px solid #ccc;\n",
        "          border-radius: 5px;\n",
        "          height: 400px;\n",
        "          overflow-y: scroll;\n",
        "        }\"\n",
        "      )\n",
        "    ),\n",
        "    fluidRow(\n",
        "      box(\n",
        "        title = \"Ask Your Question\",\n",
        "        status = \"warning\",\n",
        "        solidHeader = TRUE,\n",
        "        width = 12,\n",
        "        textInput(\"user_question\", NULL, placeholder = \"Enter your question here\"),\n",
        "        actionButton(\"submit\", \"Submit\", class = \"btn-primary btn-block\")\n",
        "      )\n",
        "    ),\n",
        "    fluidRow(\n",
        "      box(\n",
        "        title = \"Chat History\",\n",
        "        status = \"primary\",\n",
        "        solidHeader = TRUE,\n",
        "        width = 12,\n",
        "        verbatimTextOutput(\"chat_history\", placeholder = TRUE)\n",
        "      )\n",
        "    )\n",
        "  )\n",
        ")\n",
        "\n",
        "server <- function(input, output, session) {\n",
        "\n",
        "  # Reactive value to store the chat history\n",
        "  chat_history <- reactiveVal(\"\")\n",
        "\n",
        "  observeEvent(input$submit, {\n",
        "\n",
        "    # Check if any PDFs are uploaded\n",
        "    if (is.null(input$pdf_files)) {\n",
        "      # Show a warning message if no PDFs are uploaded\n",
        "      chat_history(\"Please upload at least one PDF file first.\")\n",
        "      return()\n",
        "    }\n",
        "\n",
        "    # Get the uploaded PDFs\n",
        "    pdf_paths <- input$pdf_files$datapath\n",
        "\n",
        "    # Extract text from all PDFs\n",
        "    all_text <- \"\"\n",
        "    for (path in pdf_paths) {\n",
        "      all_text <- paste(all_text, paste(pdf_text(path), collapse = \" \"))\n",
        "    }\n",
        "\n",
        "    # Check if all_text is empty\n",
        "    if (trimws(all_text) == \"\") {\n",
        "      chat_history(\"The uploaded PDFs do not contain any extractable text.\")\n",
        "      return()\n",
        "    }\n",
        "\n",
        "    # Get the user's question\n",
        "    question <- input$user_question\n",
        "\n",
        "    # Construct the prompt for ChatGPT\n",
        "    prompt <- paste(\n",
        "      \"Answer the following question based only on the information provided in the text below. \",\n",
        "      \"If the answer is not contained in the text, politely refuse to answer. \\n\\n\",\n",
        "      \"Text: \\n\", all_text, \"\\n\\n\",\n",
        "      \"Question: \", question\n",
        "    )\n",
        "\n",
        "    # Use the OpenAI API to get the answer\n",
        "    response <- openai::create_chat_completion(\n",
        "      model = \"gpt-4o-mini\",\n",
        "      messages = list(\n",
        "        list(\n",
        "          role = \"user\",\n",
        "          content = prompt\n",
        "        )\n",
        "      )\n",
        "    )\n",
        "\n",
        "    # Extract the answer from the response\n",
        "    answer <- response$choices$message.content\n",
        "\n",
        "    # Update the chat history\n",
        "    chat_history(paste(chat_history(), \"You:\", question, \"\\n\", \"ChatGPT:\", answer, \"\\n\\n\"))\n",
        "\n",
        "    # Clear the question input field\n",
        "    updateTextInput(session, \"user_question\", value = \"\")\n",
        "  })\n",
        "\n",
        "  output$chat_history <- renderText({\n",
        "    chat_history()\n",
        "  })\n",
        "}\n",
        "\n",
        "# Run the application\n",
        "shinyApp(ui = ui, server = server)"
      ],
      "metadata": {
        "id": "szukcl72r011"
      },
      "execution_count": null,
      "outputs": []
    },
    {
      "cell_type": "markdown",
      "source": [
        "**Activity:**\n",
        "\n",
        "Deploy the app to [shinyapps.io](https://shinyapps.io/). Share your link.\n",
        "\n",
        "Reference:\n",
        "\n",
        "https://www.richieyyptutorialpage.com/demo-r-series/chat-with-your-docs\n",
        "\n",
        "or\n",
        "\n",
        "https://richieyyp5.shinyapps.io/ChatWithYourDocuments/"
      ],
      "metadata": {
        "id": "djOccEM7sLka"
      }
    },
    {
      "cell_type": "markdown",
      "source": [
        "Thinking Corner:\n",
        "\n",
        " We now have access to no-code AI tools like ChatGPT and Gemini. So, why would we choose to use APIs instead?"
      ],
      "metadata": {
        "id": "ZXTs1GSbtngr"
      }
    }
  ]
}